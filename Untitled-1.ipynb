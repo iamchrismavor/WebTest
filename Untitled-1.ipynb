{
 "cells": [
  {
   "attachments": {},
   "cell_type": "markdown",
   "metadata": {},
   "source": [
    "# Real Estate Benchmarking/Market Understanding\n",
    "## Info:\n",
    "    Creator: ( Mavor, Chris)\n",
    "    Date: (August 24, 2022)\n",
    "    \n",
    "## Usage: \n",
    "    The purpose of this script is to showcase usage of data extraction from API resource to develop datasets to perform statistical understanding of housing market as it relates to current company's geographic location.\n",
    "    This script performs a deeper learning and analysis of such data. This is following the data extraction from https://theexchange.fanniemae.com/ API. For more on that matter please refer back to \"01.Fannie API.ipynb\"\n",
    "    \n",
    "    Specific items that relate to company performance have been ommited to keep animinity and keep secure information from public knowledge.\n",
    "## Outline:\n",
    "    1. API Data requests:\n",
    "        Get the data\n",
    "    2. Data manipulation: \n",
    "        a. Parsing through json data array to create flat dataframe for each portion. \n",
    "        b. Gathering different metrics from different storage bins.\n",
    "    3. Storage: \n",
    "        After manipulation is completed, I am storing said information as a flat file for ease of further analysis.\n",
    "\n",
    "## Next Steps:\n",
    "    Following this data gathering, I use other methods for deeper learning on topics in which I have gathered here.\n"
   ]
  },
  {
   "cell_type": "code",
   "execution_count": 2,
   "metadata": {},
   "outputs": [],
   "source": [
    "\n",
    "## 1.0 - Import\n",
    "#importing all packages needed and unneeded\n",
    "\n",
    "#SQL\n",
    "import cx_Oracle\n",
    "import sqlite3\n",
    "import getpass\n",
    "import pyodbc \n",
    "\n",
    "# stats/science\n",
    "import pandas as pd\n",
    "from pandas import DataFrame\n",
    "import numpy as np\n",
    "from scipy import stats\n",
    "import matplotlib # not particularly important at the moment\n",
    "import matplotlib.pyplot as plt # not particularly important at the moment\n",
    "from matplotlib.lines import Line2D\n",
    "import seaborn as sns # not particularly important at the moment\n",
    "\n",
    "  \n",
    "from sklearn.linear_model import LinearRegression\n",
    "from sklearn.metrics import mean_squared_error, r2_score\n",
    "import statsmodels.api as sm\n",
    "import operator\n",
    "from sklearn.preprocessing import PolynomialFeatures\n",
    "\n",
    "# date packages\n",
    "import datetime as dt\n",
    "from datetime import datetime\n",
    "from datetime import date\n",
    "from dateutil.relativedelta import relativedelta\n",
    "import calendar\n",
    "# creating accounting triangles\n",
    "\n",
    "import chainladder as cl\n",
    "# packages needed during AWS opperations\n",
    "import sys\n",
    "import os \n",
    "\n",
    "from openpyxl import load_workbook\n",
    "import xlsxwriter\n",
    "from heapq import merge\n",
    "\n",
    "\n",
    "# from pptx import Presentation\n",
    "\n",
    "\n",
    "#__________________________________________________________\n",
    "#set the display options for the notebook\n",
    "pd.set_option('display.max_rows', None)\n",
    "pd.set_option('display.max_columns', None)\n",
    "pd.set_option('display.width', None)\n",
    "pd.set_option('display.max_colwidth', None)\n",
    "\n",
    "#__________________________________________________________\n",
    "#set username and password for database connection"
   ]
  },
  {
   "cell_type": "code",
   "execution_count": 3,
   "metadata": {},
   "outputs": [
    {
     "name": "stdout",
     "output_type": "stream",
     "text": [
      "[[1, 2]]\n"
     ]
    }
   ],
   "source": [
    "i = [[1,2]]\n",
    "print(i)"
   ]
  },
  {
   "cell_type": "markdown",
   "metadata": {},
   "source": []
  }
 ],
 "metadata": {
  "kernelspec": {
   "display_name": "base",
   "language": "python",
   "name": "python3"
  },
  "language_info": {
   "codemirror_mode": {
    "name": "ipython",
    "version": 3
   },
   "file_extension": ".py",
   "mimetype": "text/x-python",
   "name": "python",
   "nbconvert_exporter": "python",
   "pygments_lexer": "ipython3",
   "version": "3.9.13"
  },
  "orig_nbformat": 4,
  "vscode": {
   "interpreter": {
    "hash": "e5f83254fef5cee5e627279274d62087975c95ea9db16819603596c6b8ad6cff"
   }
  }
 },
 "nbformat": 4,
 "nbformat_minor": 2
}
